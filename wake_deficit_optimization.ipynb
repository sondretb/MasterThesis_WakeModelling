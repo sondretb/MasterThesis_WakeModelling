{
 "cells": [
  {
   "cell_type": "markdown",
   "metadata": {},
   "source": [
    "# Wake deficit model optimization\n",
    "ChatGPT aided in som library and asset use.\n"
   ]
  },
  {
   "cell_type": "code",
   "execution_count": null,
   "metadata": {},
   "outputs": [],
   "source": [
    "from hyperopt import fmin, tpe, hp, Trials, STATUS_OK\n",
    "from sklearn.model_selection import cross_val_score\n",
    "from sklearn.ensemble import GradientBoostingClassifier\n",
    "from py_wake.literature.gaussian_models import Bastankhah_PorteAgel_2014\n",
    "from py_wake.literature.noj import Jensen_1983\n",
    "from py_wake.superposition_models import LinearSum, SquaredSum\n",
    "from swt6 import SWT6\n",
    "from dudgeon import NAMES, WT_X, WT_Y\n",
    "import numpy as np\n",
    "import pandas as pd\n",
    "from data_filter import prepare_turbine_seperated_data\n",
    "from sklearn.model_selection import train_test_split\n"
   ]
  },
  {
   "cell_type": "markdown",
   "metadata": {},
   "source": [
    "### Defining validation set\n"
   ]
  },
  {
   "cell_type": "code",
   "execution_count": null,
   "metadata": {},
   "outputs": [],
   "source": [
    "\n",
    "def get_ws_dataset(data):\n",
    "    ws_df = None\n",
    "    for name, df_i in data.items():\n",
    "        df_i = df_i.rename(columns= {'WindSpeed': name})\n",
    "        if name == 'A01':\n",
    "            ws_df = df_i[name]\n",
    "        else:\n",
    "            ws_df = pd.merge(ws_df, df_i[name], on='timestamp', how='inner')\n",
    "    ws_df = pd.merge(ws_df, data['A05']['WindDirection'], on='timestamp', how='inner')\n",
    "    return ws_df"
   ]
  },
  {
   "cell_type": "code",
   "execution_count": null,
   "metadata": {},
   "outputs": [],
   "source": [
    "data = prepare_turbine_seperated_data()\n",
    "ws_dataset = get_ws_dataset(data=data)\n",
    "ws_dataset = ws_dataset[ws_dataset['WindDirection'] > 140]"
   ]
  },
  {
   "cell_type": "markdown",
   "metadata": {},
   "source": [
    "### Reason for limited dataset"
   ]
  },
  {
   "cell_type": "code",
   "execution_count": null,
   "metadata": {},
   "outputs": [],
   "source": [
    "def print_missing_ws_values(data):\n",
    "    ws_df = None\n",
    "    for name, df_i in data.items():\n",
    "        df_i = df_i.rename(columns= {'WindSpeed': name})\n",
    "        if name == 'A01':\n",
    "            ws_df = df_i[name]\n",
    "        else:\n",
    "            ws_df = pd.merge(ws_df, df_i[name], on='timestamp', how='outer')\n",
    "    ws_df = pd.merge(ws_df, data['A05']['WindDirection'], on='timestamp', how='outer')\n",
    "    print(ws_df.isna().sum())\n",
    "\n",
    "print_missing_ws_values(data)"
   ]
  },
  {
   "cell_type": "markdown",
   "metadata": {},
   "source": [
    "### Showing wind directions"
   ]
  },
  {
   "cell_type": "code",
   "execution_count": null,
   "metadata": {},
   "outputs": [],
   "source": [
    "from windrose import WindroseAxes\n",
    "import matplotlib.pyplot as plt\n",
    "\n",
    "ax_wd = WindroseAxes.from_ax()\n",
    "ax_wd.bar(ws_dataset['WindDirection'], ws_dataset['A05'], normed=True, opening=0.8, edgecolor='white')\n",
    "ax_wd.set_legend()\n",
    "ax_wd.set_title(\"Wind direction and wind speed of validation set   (A05)\")\n",
    "plt.show()"
   ]
  },
  {
   "cell_type": "markdown",
   "metadata": {},
   "source": [
    "### Defining objective function"
   ]
  },
  {
   "cell_type": "code",
   "execution_count": null,
   "metadata": {},
   "outputs": [],
   "source": [
    "#sub_set1, sub_set2 = train_test_split(ws_dataset, test_size=0.5)  # Small subset held out for validation\n",
    "sub_set1 = ws_dataset.sample(frac=1/3)\n",
    "sub_set2 = ws_dataset.drop(sub_set1.index).sample(frac=1/2)\n",
    "sub_set3 = ws_dataset.drop(sub_set1.index).drop(sub_set2.index)"
   ]
  },
  {
   "cell_type": "code",
   "execution_count": null,
   "metadata": {},
   "outputs": [],
   "source": [
    "from tqdm.notebook import tqdm\n",
    "from wake_estimator import WakeEstimator\n",
    "def get_mse(y_val, y_pred):\n",
    "        mse = np.mean(np.square(y_val - y_pred))\n",
    "        return mse\n",
    "\n",
    "def objective_function(estimator: WakeEstimator, X_val, y_val):\n",
    "    y_pred = []\n",
    "    for x_i in X_val:\n",
    "        y_pred_i = estimator.predict(x_i) #(ws, wd)\n",
    "        y_pred.append(y_pred_i)\n",
    "    y_pred = np.array(y_pred)\n",
    "    return get_mse(y_val, y_pred)\n",
    "\n",
    "def gridCV(X, y, param_grid):\n",
    "    total = 1 \n",
    "    for val in param_grid.values():\n",
    "        total *= len(val)\n",
    "    score_dict = {}\n",
    "\n",
    "    with tqdm(total=total, desc=f'Testing Parameter Combinations') as pbar:\n",
    "        for deficitModel in param_grid['deficitModel']:\n",
    "            for superpositionModel in param_grid['superpositionModel']:\n",
    "                for k in param_grid['k']:\n",
    "                    estimator = WakeEstimator(deficitModel=deficitModel, superpositionModel=superpositionModel, k=k)\n",
    "                    score_dict[(deficitModel.__name__, superpositionModel.__name__, k)] = objective_function(estimator=estimator, X_val=X, y_val=y)\n",
    "                    pbar.update(1)\n",
    "\n",
    "    return score_dict\n"
   ]
  },
  {
   "cell_type": "markdown",
   "metadata": {},
   "source": [
    "### Defining the parameter grid"
   ]
  },
  {
   "cell_type": "code",
   "execution_count": null,
   "metadata": {},
   "outputs": [],
   "source": [
    "param_grid = {\n",
    "    'deficitModel': [Jensen_1983, Bastankhah_PorteAgel_2014],\n",
    "    'superpositionModel': [LinearSum, SquaredSum],\n",
    "    'k': np.linspace(start=0.01, stop= 0.18, num=18)\n",
    "}\n"
   ]
  },
  {
   "cell_type": "code",
   "execution_count": null,
   "metadata": {},
   "outputs": [],
   "source": [
    "ws_source_turbine = 'A05'\n",
    "\n",
    "y_val_1 = sub_set1[NAMES].to_numpy()\n",
    "y_val_2 = sub_set2[NAMES].to_numpy()\n",
    "y_val_3 = sub_set3[NAMES].to_numpy()\n",
    "\n",
    "x_val_1 = sub_set1[[ws_source_turbine, 'WindDirection']].to_numpy()\n",
    "x_val_2 = sub_set2[[ws_source_turbine, 'WindDirection']].to_numpy()\n",
    "x_val_3 = sub_set3[[ws_source_turbine, 'WindDirection']].to_numpy()"
   ]
  },
  {
   "cell_type": "code",
   "execution_count": null,
   "metadata": {},
   "outputs": [],
   "source": [
    "score_dict1 = gridCV(param_grid=param_grid, X=x_val_1, y=y_val_1)\n",
    "score_dict2 = gridCV(param_grid=param_grid, X=x_val_2, y=y_val_2)\n",
    "score_dict3 = gridCV(param_grid=param_grid, X=x_val_3, y=y_val_3)"
   ]
  },
  {
   "cell_type": "code",
   "execution_count": null,
   "metadata": {},
   "outputs": [],
   "source": [
    "import seaborn as sns\n",
    "#axes = plt.subplots(2, 3)\n",
    "def plot_scores(deficit_model, superposition_model):\n",
    "    values1, values2, values3 = [], [], []\n",
    "    bar_width = 0.15\n",
    "\n",
    "    for k in param_grid['k']:\n",
    "        values1.append(score_dict1[(deficit_model, superposition_model, k)])\n",
    "        values2.append(score_dict2[(deficit_model, superposition_model, k)])\n",
    "        values3.append(score_dict3[(deficit_model, superposition_model, k)])\n",
    "    index = np.arange(len(values1))\n",
    "    bars1 = plt.bar(x=index, height=values1, width=bar_width, label='Subset 1')\n",
    "    bars2 = plt.bar(x=index+bar_width, height=values2, width=bar_width, color='green', label='Subset 2')\n",
    "    bars3 = plt.bar(x=index+bar_width*2, height=values3, width=bar_width, color='orange', label='Subset 3')\n",
    "    \n",
    "    plt.xlabel('$K_w$')\n",
    "    plt.xticks(index + bar_width, param_grid['k'].round(3), rotation=90)\n",
    "    plt.ylabel('MSE')  # Add y-axis label for clarity\n",
    "    plt.title(f\"K_w scores with '{deficit_model}' and '{superposition_model}'\")  # Add a title for clarity\n",
    "    for bar1, bar2, bar3 in zip(bars1, bars2, bars3):\n",
    "        yvalue = (bar1.get_height() + bar2.get_height() + bar3.get_height())/3\n",
    "        height = max([bar1.get_height() , bar2.get_height() , bar3.get_height()])\n",
    "        plt.text(bar2.get_x() + bar2.get_width()/2.0, height, f'{round(yvalue, 4)}', ha='center', va='bottom')\n",
    "    plt.legend()\n",
    "    plt.tight_layout()\n",
    "\n",
    "#sns.heatmap(ax=axes[0, 0])"
   ]
  },
  {
   "cell_type": "code",
   "execution_count": null,
   "metadata": {},
   "outputs": [],
   "source": [
    "plt.rcParams[\"figure.figsize\"] = (12, 5)\n",
    "plot_scores('Jensen_1983', 'LinearSum')\n",
    "plt.show()"
   ]
  },
  {
   "cell_type": "code",
   "execution_count": null,
   "metadata": {},
   "outputs": [],
   "source": [
    "plot_scores('Jensen_1983', 'SquaredSum')\n",
    "plt.show()"
   ]
  },
  {
   "cell_type": "code",
   "execution_count": null,
   "metadata": {},
   "outputs": [],
   "source": [
    "plot_scores('Bastankhah_PorteAgel_2014', 'SquaredSum')\n",
    "plt.show()"
   ]
  },
  {
   "cell_type": "code",
   "execution_count": null,
   "metadata": {},
   "outputs": [],
   "source": [
    "plot_scores('Bastankhah_PorteAgel_2014', 'LinearSum')\n",
    "plt.show()"
   ]
  },
  {
   "cell_type": "markdown",
   "metadata": {},
   "source": [
    "## Testing additional approaches"
   ]
  },
  {
   "cell_type": "markdown",
   "metadata": {},
   "source": [
    "### TI based K for Bahkstan, and linearSum"
   ]
  },
  {
   "cell_type": "code",
   "execution_count": null,
   "metadata": {},
   "outputs": [],
   "source": [
    "from wake_estimator import WakeEstimatorTI\n",
    "ti_included_estimator_sq = WakeEstimatorTI(superpositionModel=SquaredSum)\n",
    "ti_included_estimator_lin = WakeEstimatorTI(superpositionModel=LinearSum)\n",
    "\n",
    "TI_wake_mse1_sq = objective_function(ti_included_estimator_sq, X_val=x_val_1, y_val=y_val_1)\n",
    "TI_wake_mse1_lin = objective_function(ti_included_estimator_lin, X_val=x_val_1, y_val=y_val_1)\n",
    "\n",
    "TI_wake_mse2_sq = objective_function(ti_included_estimator_sq, X_val=x_val_2, y_val=y_val_2)\n",
    "TI_wake_mse2_lin = objective_function(ti_included_estimator_lin, X_val=x_val_2, y_val=y_val_2)\n",
    "\n",
    "TI_wake_mse3_sq = objective_function(ti_included_estimator_sq, X_val=x_val_3, y_val=y_val_3)\n",
    "TI_wake_mse3_lin = objective_function(ti_included_estimator_lin, X_val=x_val_3, y_val=y_val_3)"
   ]
  },
  {
   "cell_type": "code",
   "execution_count": null,
   "metadata": {},
   "outputs": [],
   "source": []
  },
  {
   "cell_type": "markdown",
   "metadata": {},
   "source": [
    "### No wake"
   ]
  },
  {
   "cell_type": "code",
   "execution_count": null,
   "metadata": {},
   "outputs": [],
   "source": [
    "nowake_pred1 = np.repeat(x_val_1[:, 0], y_val_1.shape[1]).reshape(y_val_1.shape)     \n",
    "nowake_pred2 = np.repeat(x_val_2[:, 0], y_val_2.shape[1]).reshape(y_val_2.shape) \n",
    "nowake_pred3 = np.repeat(x_val_3[:, 0], y_val_3.shape[1]).reshape(y_val_3.shape) \n",
    "\n",
    "no_wake_mse1 = get_mse(nowake_pred1, y_val_1)\n",
    "no_wake_mse2 = get_mse(nowake_pred2, y_val_2)\n",
    "no_wake_mse3 = get_mse(nowake_pred3, y_val_3)"
   ]
  },
  {
   "cell_type": "code",
   "execution_count": null,
   "metadata": {},
   "outputs": [],
   "source": [
    "import matplotlib as mpl\n",
    "mpl.rcParams.update(mpl.rcParamsDefault)\n",
    "plt.rcParams[\"figure.figsize\"] = (8, 5)\n",
    "\n",
    "nowake_bars = plt.bar(x=[0, 0.2, 0.4],height=[no_wake_mse1, no_wake_mse2, no_wake_mse3], width=0.2, color=['blue', 'green', 'orange'], label=['Subset 1', 'Subset 2', 'Subset 3'])\n",
    "TI_k_bars_lin = plt.bar(x=[1, 1.2, 1.4],height=[TI_wake_mse1_lin, TI_wake_mse2_lin, TI_wake_mse3_lin], width=0.2, color=['blue', 'green', 'orange'])\n",
    "TI_k_bars_sq = plt.bar(x=[2, 2.2, 2.4],height=[TI_wake_mse1_sq, TI_wake_mse2_sq, TI_wake_mse3_sq], width=0.2, color=['blue', 'green', 'orange'])\n",
    "\n",
    "for bar, color in zip(nowake_bars, ['blue', 'green', 'orange']):\n",
    "        yvalue = bar.get_height()\n",
    "        plt.text(bar.get_x() + bar.get_width()/2.0, bar.get_height(), f'{round(yvalue, 2)}', ha='center', va='bottom', color=color)\n",
    "for bar, color in zip(TI_k_bars_lin, ['blue', 'green', 'orange']):\n",
    "        yvalue = bar.get_height()\n",
    "        plt.text(bar.get_x() + bar.get_width()/2.0, bar.get_height(), f'{round(yvalue, 2)}', ha='center', va='bottom', color=color)\n",
    "for bar, color in zip(TI_k_bars_sq, ['blue', 'green', 'orange']):\n",
    "        yvalue = bar.get_height()\n",
    "        plt.text(bar.get_x() + bar.get_width()/2.0, bar.get_height(), f'{round(yvalue, 2)}', ha='center', va='bottom', color=color)\n",
    "\n",
    "no_wake_mean = 0\n",
    "TI_sq_mean = 0\n",
    "Ti_lin_mean = 0\n",
    "for bar in nowake_bars: \n",
    "        no_wake_mean += bar.get_height()\n",
    "for bar in TI_k_bars_sq: \n",
    "        TI_sq_mean += bar.get_height()\n",
    "for bar in TI_k_bars_lin: \n",
    "        Ti_lin_mean += bar.get_height()\n",
    "\n",
    "no_wake_mean /= 3\n",
    "TI_sq_mean /= 3\n",
    "Ti_lin_mean /= 3\n",
    "\n",
    "for x, y in zip([0.12, 1.14, 2.12], [no_wake_mean, Ti_lin_mean, TI_sq_mean], ):\n",
    "        plt.text(x=x, y=y+0.2, s=f'{round(y, 2)}', fontsize=14)\n",
    "\n",
    "plt.xticks(np.array([0, 1, 2]) + 0.2, ['No wake', '$K_{TI}$ LinearSum', '$K_{TI}$ SquareSum'])\n",
    "plt.legend(loc=4)\n",
    "plt.xlabel('Velocity Deficit Approach')\n",
    "plt.tight_layout()\n",
    "plt.ylim([0,1.8])\n",
    "plt.ylabel('MSE')\n",
    "plt.title('Addition model varriations')\n",
    "plt.show()"
   ]
  }
 ],
 "metadata": {
  "kernelspec": {
   "display_name": ".venv",
   "language": "python",
   "name": "python3"
  },
  "language_info": {
   "codemirror_mode": {
    "name": "ipython",
    "version": 3
   },
   "file_extension": ".py",
   "mimetype": "text/x-python",
   "name": "python",
   "nbconvert_exporter": "python",
   "pygments_lexer": "ipython3",
   "version": "3.12.0"
  }
 },
 "nbformat": 4,
 "nbformat_minor": 2
}
