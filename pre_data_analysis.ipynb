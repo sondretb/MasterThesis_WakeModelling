{
 "cells": [
  {
   "cell_type": "markdown",
   "metadata": {},
   "source": [
    "# Preliminary Data Analysis"
   ]
  },
  {
   "cell_type": "code",
   "execution_count": null,
   "metadata": {},
   "outputs": [],
   "source": [
    "! pip install azure-storage-blob azure-identity xgboost tensorflow pyspark windrose pywake geopy"
   ]
  },
  {
   "cell_type": "code",
   "execution_count": null,
   "metadata": {},
   "outputs": [],
   "source": [
    "from azure.storage.blob import BlobServiceClient, BlobClient\n",
    "import xgboost\n",
    "import matplotlib.pyplot as plt\n",
    "import pandas as pd\n",
    "import numpy as np\n",
    "import tensorflow as tf\n",
    "from dotenv import load_dotenv\n",
    "import os\n",
    "from tqdm import tqdm\n",
    "import asyncio\n",
    "from io import StringIO\n",
    "from windrose import WindroseAxes"
   ]
  },
  {
   "cell_type": "markdown",
   "metadata": {},
   "source": [
    "### Fetching azure blobs\n",
    "\n",
    "Run download_files.py"
   ]
  },
  {
   "cell_type": "markdown",
   "metadata": {},
   "source": [
    "### Make dataframes"
   ]
  },
  {
   "cell_type": "code",
   "execution_count": null,
   "metadata": {},
   "outputs": [],
   "source": [
    "from util import get_dataframes, timestamp_to_datetime_index\n",
    "\n",
    "data = get_dataframes()"
   ]
  },
  {
   "cell_type": "markdown",
   "metadata": {},
   "source": [
    "### Filling na values of wd and yaw"
   ]
  },
  {
   "cell_type": "code",
   "execution_count": null,
   "metadata": {},
   "outputs": [],
   "source": [
    "data['yaw_angle_DOW_2023_10min_avg'] = data['yaw_angle_DOW_2023_10min_avg'].sort_values(by='timestamp').ffill().dropna()    #Ikke egt riktig (bfill), men kanskje bedre en å droppe\n",
    "data['wind_direction_DOW_2023_10min_avg'] = data['wind_direction_DOW_2023_10min_avg'].sort_values(by='timestamp').ffill().dropna()\n",
    "\n"
   ]
  },
  {
   "cell_type": "code",
   "execution_count": null,
   "metadata": {},
   "outputs": [],
   "source": [
    "ws_wd_yaw_10_min = pd.merge(data['windspeed_DOW_2023_10min_avg'], data['wind_direction_DOW_2023_10min_avg'], on='timestamp', how='outer')\n",
    "ws_wd_yaw_10_min = pd.merge(ws_wd_yaw_10_min, data['yaw_angle_DOW_2023_10min_avg'],  on='timestamp', how='outer')\n",
    "\n",
    "wd_ws_A01 = ws_wd_yaw_10_min[['timestamp', 'DOW-A01-WindSpeed', 'DOW-A01-WindDirection']].dropna()\n",
    "wd_ws_F02 = ws_wd_yaw_10_min[['timestamp', 'DOW-F02-WindSpeed', 'DOW-F02-WindDirection']].dropna()\n",
    "wd_ws_B01 = ws_wd_yaw_10_min[['timestamp', 'DOW-B01-WindSpeed', 'DOW-B01-WindDirection']].dropna()"
   ]
  },
  {
   "cell_type": "markdown",
   "metadata": {},
   "source": [
    "### Wind direction"
   ]
  },
  {
   "cell_type": "code",
   "execution_count": null,
   "metadata": {},
   "outputs": [],
   "source": [
    "\n",
    "ax1 = WindroseAxes.from_ax()\n",
    "ax1.bar(wd_ws_A01['DOW-A01-WindDirection'], wd_ws_A01['DOW-A01-WindSpeed'], normed=True, opening=0.8, edgecolor='white')\n",
    "ax1.set_legend()\n",
    "\n",
    "ax1.set_title(\"DOW-A01 WindDirection and Speed\")\n",
    "\n",
    "\n",
    "ax2 = WindroseAxes.from_ax()\n",
    "ax2.bar(wd_ws_F02['DOW-F02-WindDirection'], wd_ws_F02['DOW-F02-WindSpeed'], normed=True, opening=0.8, edgecolor='white')\n",
    "ax2.set_legend()\n",
    "\n",
    "ax2.set_title(\"DOW-F02 WindDirection and Speed\")\n",
    "\n",
    "\n",
    "ax3 = WindroseAxes.from_ax()\n",
    "ax3.bar(wd_ws_B01['DOW-B01-WindDirection'], wd_ws_B01['DOW-B01-WindSpeed'], normed=True, opening=0.8, edgecolor='white')\n",
    "ax3.set_legend()\n",
    "\n",
    "ax3.set_title(\"DOW-B01 WindDirection and Speed\")\n",
    "\n",
    "\n",
    "\n",
    "plt.show()"
   ]
  },
  {
   "cell_type": "code",
   "execution_count": null,
   "metadata": {},
   "outputs": [],
   "source": [
    "a01_ap = data['activepower_DOW_2023_10min_avg'][['DOW-A01-ActivePower', 'timestamp']]\n",
    "testing = pd.merge(wd_ws_A01, a01_ap, on='timestamp', how='left')\n",
    "testing[testing['DOW-A01-WindSpeed']<25].hist()"
   ]
  },
  {
   "cell_type": "markdown",
   "metadata": {},
   "source": [
    "### Checking wind directions for single days\n"
   ]
  },
  {
   "cell_type": "code",
   "execution_count": null,
   "metadata": {},
   "outputs": [],
   "source": [
    "wd_ws_A01 = timestamp_to_datetime_index(wd_ws_A01)\n",
    "wd_ws_F02 = timestamp_to_datetime_index(wd_ws_F02)\n",
    "wd_ws_B01 = timestamp_to_datetime_index(wd_ws_B01)"
   ]
  },
  {
   "cell_type": "code",
   "execution_count": null,
   "metadata": {},
   "outputs": [],
   "source": [
    "ax1 = WindroseAxes.from_ax()\n",
    "\n",
    "\n",
    "targeted_date = '2023-11-29'\n",
    "\n",
    "\n",
    "ax1.bar(wd_ws_A01.loc[targeted_date]['DOW-A01-WindDirection'], wd_ws_A01.loc[targeted_date]['DOW-A01-WindSpeed'], normed=True, opening=0.8, edgecolor='white')\n",
    "ax1.set_legend()\n",
    "\n",
    "ax1.set_title(f\"DOW-A01 WindDirection and Speed ({targeted_date})\")\n",
    "\n",
    "\n",
    "ax2 = WindroseAxes.from_ax()\n",
    "ax2.bar(wd_ws_F02.loc[targeted_date]['DOW-F02-WindDirection'], wd_ws_F02.loc[targeted_date]['DOW-F02-WindSpeed'], normed=True, opening=0.8, edgecolor='white')\n",
    "ax2.set_legend()\n",
    "\n",
    "ax2.set_title(f\"DOW-F02 WindDirection and Speed ({targeted_date})\")\n",
    "\n",
    "\n",
    "ax3 = WindroseAxes.from_ax()\n",
    "ax3.bar(wd_ws_B01.loc[targeted_date]['DOW-B01-WindDirection'], wd_ws_B01.loc[targeted_date]['DOW-B01-WindSpeed'], normed=True, opening=0.8, edgecolor='white')\n",
    "ax3.set_legend()\n",
    "\n",
    "ax3.set_title(f\"DOW-B01 WindDirection and Speed ({targeted_date})\")\n",
    "\n",
    "\n",
    "\n",
    "plt.show()"
   ]
  },
  {
   "cell_type": "markdown",
   "metadata": {},
   "source": [
    "### Yaw offset\n",
    "\n",
    "# massive problem"
   ]
  },
  {
   "cell_type": "code",
   "execution_count": null,
   "metadata": {},
   "outputs": [],
   "source": [
    "from matplotlib.ticker import FormatStrFormatter\n",
    "\n",
    "\n",
    "target_turbine = 'A05'\n",
    "\n",
    "yaw_offset = ws_wd_yaw_10_min[[f'DOW-{target_turbine}-WindDirection', f'DOW-{target_turbine}-NacelleDirection']].dropna()\n",
    "\n",
    "yaw_offset[f'DOW-{target_turbine}-YawOffset'] = yaw_offset[f'DOW-{target_turbine}-WindDirection'] - yaw_offset[f'DOW-{target_turbine}-NacelleDirection']\n",
    "\n",
    "\n",
    "#yaw_offset.drop(index=yaw_offset.nlargest(10, f'DOW-{target_turbine}-YawOffset').index, inplace=True)\n",
    "#yaw_offset.drop(index=yaw_offset.nsmallest(10, f'DOW-{target_turbine}-YawOffset').index, inplace=True)\n",
    "yaw_offset[f'DOW-{target_turbine}-YawOffset'].hist(bins=15)\n",
    "plt.xlabel('Yaw offset')\n",
    "plt.ylabel('Frequency')\n",
    "plt.title(f'DOW-{target_turbine} yaw offset distribution')\n",
    "plt.gca().xaxis.set_major_formatter(FormatStrFormatter('%a$^\\circ$'))\n",
    "\n",
    "plt.show()\n",
    "print(yaw_offset.nsmallest(columns=f'DOW-{target_turbine}-YawOffset', n=20))"
   ]
  },
  {
   "cell_type": "markdown",
   "metadata": {},
   "source": [
    "### Turbulence correlation"
   ]
  },
  {
   "cell_type": "code",
   "execution_count": null,
   "metadata": {},
   "outputs": [],
   "source": [
    "from datetime import timedelta\n",
    "pd.options.mode.copy_on_write = True\n",
    "\n",
    "def calculate_TI(ws_df, interval = 10):\n",
    "    bin_delta = timedelta(minutes=interval)\n",
    "    is_series = False\n",
    "    try:\n",
    "        ws_column = [s for s in ws_df.columns if 'WindSpeed' in s][0]\n",
    "    except:\n",
    "        if 'WindSpeed' in ws_df.name:\n",
    "            ws_column = ws_df.name\n",
    "            is_series = True\n",
    "        else:\n",
    "            raise KeyError('No windspeed column found')\n",
    "        \n",
    "    TI_label = ws_column.replace('WindSpeed', 'TI')\n",
    "\n",
    "    def calculate_rolling_TI_std():\n",
    "        if is_series:\n",
    "            mean = ws_df.rolling(window = bin_delta, min_periods = 50).mean()\n",
    "            std = ws_df.rolling(window = bin_delta, min_periods = 50).std()\n",
    "            ti = std/mean\n",
    "            ti = ti.rename(TI_label)\n",
    "\n",
    "        else:\n",
    "            mean = ws_df[ws_column].rolling(window = bin_delta, min_periods = 50).mean()\n",
    "            std = ws_df[ws_column].rolling(window = bin_delta, min_periods = 50).std()\n",
    "            ti = std/mean\n",
    "            ti = ti.rename(columns = {ws_column: TI_label})\n",
    "        return ti\n",
    "    \n",
    "    ti = calculate_rolling_TI_std()\n",
    "    return ti\n",
    "\n"
   ]
  },
  {
   "cell_type": "markdown",
   "metadata": {},
   "source": [
    "### Fetching raw data, for analysis."
   ]
  },
  {
   "cell_type": "code",
   "execution_count": null,
   "metadata": {},
   "outputs": [],
   "source": [
    "\n",
    "pivot_df = data['RAW_Windspeed_DOW_4_Nov_2023'].pivot(index='source_timestamp', columns='tag', values='double_value')\n",
    "pivot_df = pivot_df.reset_index()\n",
    "pivot_df = pivot_df.rename(columns = {'source_timestamp': 'timestamp'})\n",
    "pivot_df = timestamp_to_datetime_index(pivot_df)\n",
    "\n",
    "\n",
    "J04_raw_ws = pivot_df['DOW-J04-WindSpeed'].dropna()\n",
    "T05_raw_ws = pivot_df['DOW-T05-WindSpeed'].dropna()\n",
    "J05_raw_ws = pivot_df['DOW-J05-WindSpeed'].dropna()\n",
    "K05_raw_ws = pivot_df['DOW-K05-WindSpeed'].dropna()\n",
    "L05_raw_ws = pivot_df['DOW-L05-WindSpeed'].dropna()\n",
    "L04_raw_ws = pivot_df['DOW-L04-WindSpeed'].dropna()\n",
    "\n",
    "\n",
    "pivot_df = data['RAW_ActivePower_DOW_4_Nov_2023'].pivot(index='source_timestamp', columns='tag', values='double_value')\n",
    "pivot_df = pivot_df.reset_index()\n",
    "pivot_df = pivot_df.rename(columns = {'source_timestamp': 'timestamp'})\n",
    "pivot_df = timestamp_to_datetime_index(pivot_df)\n",
    "\n",
    "J04_raw_ap = pivot_df['DOW-J04-ActivePower'].dropna()\n",
    "T05_raw_ap = pivot_df['DOW-T05-ActivePower'].dropna()\n",
    "\n",
    "T05_wd = data['wind_direction_DOW_2023_10min_avg'][['timestamp', 'DOW-T05-WindDirection']]\n",
    "J04_wd = data['wind_direction_DOW_2023_10min_avg'][['timestamp', 'DOW-J04-WindDirection']]\n"
   ]
  },
  {
   "cell_type": "markdown",
   "metadata": {},
   "source": [
    "### Highlighting targeted turbines "
   ]
  },
  {
   "cell_type": "code",
   "execution_count": null,
   "metadata": {},
   "outputs": [],
   "source": [
    "from demo import plot_DOW_layout\n",
    "plot_DOW_layout()"
   ]
  },
  {
   "cell_type": "markdown",
   "metadata": {},
   "source": [
    "Checking distance versions"
   ]
  },
  {
   "cell_type": "code",
   "execution_count": null,
   "metadata": {},
   "outputs": [],
   "source": [
    "from dudgeon import get_distance_from_names, ANCHOR_LAT, ANCHOR_LON, haversine_distance\n",
    "from geopy.distance import lonlat, distance, great_circle\n",
    "\n",
    "H03 = lonlat(1.418953, 53.266246)\n",
    "H04 = lonlat(1.430149, 53.261054)\n",
    "h4 = (53.261054, 1.430149)\n",
    "\n",
    "h3 = (53.266246, 1.418953)\n",
    "\n",
    "print(get_distance_from_names('H03', 'H04'))\n",
    "print(distance(H03, H04).meters/154)\n",
    "print(great_circle(h3, h4))"
   ]
  },
  {
   "cell_type": "markdown",
   "metadata": {},
   "source": [
    "### Calculating TI And test TI validity"
   ]
  },
  {
   "cell_type": "code",
   "execution_count": null,
   "metadata": {},
   "outputs": [],
   "source": [
    "#Please excuse the horrible coding, i was in a rush.\n",
    "\n",
    "T05_TI = calculate_TI(ws_df=T05_raw_ws)\n",
    "J04_TI = calculate_TI(ws_df=J04_raw_ws)\n",
    "J05_TI = calculate_TI(ws_df=J05_raw_ws)\n",
    "K05_TI = calculate_TI(ws_df=K05_raw_ws)\n",
    "L05_TI = calculate_TI(ws_df=L05_raw_ws)\n",
    "L04_TI = calculate_TI(ws_df=L04_raw_ws)\n",
    "\n",
    "ti_ws_plotter = pd.merge(J04_raw_ws, J04_TI, on='timestamp', how='outer').dropna()\n",
    "\n",
    "\n",
    "ti_ws_addon = pd.merge(T05_raw_ws, T05_TI, on='timestamp', how='outer').dropna().rename(columns={'DOW-T05-WindSpeed':'DOW-J04-WindSpeed', 'DOW-T05-TI':'DOW-J04-TI'})\n",
    "ti_ws_addon1 = pd.merge(J05_raw_ws, J05_TI, on='timestamp', how='outer').dropna().rename(columns={'DOW-J05-WindSpeed':'DOW-J04-WindSpeed', 'DOW-J05-TI':'DOW-J04-TI'})\n",
    "ti_ws_addon2 = pd.merge(K05_raw_ws, K05_TI, on='timestamp', how='outer').dropna().rename(columns={'DOW-K05-WindSpeed':'DOW-J04-WindSpeed', 'DOW-K05-TI':'DOW-J04-TI'})\n",
    "ti_ws_addon3 = pd.merge(L05_raw_ws, L05_TI, on='timestamp', how='outer').dropna().rename(columns={'DOW-L05-WindSpeed':'DOW-J04-WindSpeed', 'DOW-L05-TI':'DOW-J04-TI'})\n",
    "ti_ws_addon4 = pd.merge(L04_raw_ws, L04_TI, on='timestamp', how='outer').dropna().rename(columns={'DOW-L04-WindSpeed':'DOW-J04-WindSpeed', 'DOW-L04-TI':'DOW-J04-TI'})\n",
    "\n",
    "\n",
    "ti_ws_plotter =  pd.concat([ti_ws_plotter, ti_ws_addon1, ti_ws_addon2, ti_ws_addon3, ti_ws_addon4], ignore_index=True)\n",
    "ti_ws_plotter['ws_bins'] = pd.cut(ti_ws_plotter['DOW-J04-WindSpeed'], 30)\n",
    "\n",
    "ws_x = ti_ws_plotter.groupby('ws_bins', observed=True)['DOW-J04-WindSpeed'].mean()\n",
    "mean = ti_ws_plotter.groupby('ws_bins', observed=True)['DOW-J04-TI'].mean()\n",
    "quantile1 = ti_ws_plotter.groupby('ws_bins', observed=True)['DOW-J04-TI'].quantile(0.10)\n",
    "quantile3 = ti_ws_plotter.groupby('ws_bins', observed=True)['DOW-J04-TI'].quantile(0.90)\n",
    "\n",
    "\n",
    "plt.plot(ws_x, mean, label='Mean', color='orange')\n",
    "plt.plot(ws_x, quantile1, 'blue', linestyle='--',alpha=0.3)\n",
    "plt.plot(ws_x, quantile3, 'blue', linestyle='--',alpha=0.3)\n",
    "plt.fill_between(ws_x, quantile1, quantile3 ,alpha=0.3, label='10% - 90%-quantile')\n",
    "\n",
    "plt.ylabel('Turbulence intensity')\n",
    "plt.xlabel('Wind speed')\n",
    "plt.legend()\n",
    "plt.title('Turbulence intensity')\n"
   ]
  },
  {
   "cell_type": "code",
   "execution_count": null,
   "metadata": {},
   "outputs": [],
   "source": [
    "merge_test = pd.DataFrame({J04_TI.name: J04_TI.dropna(), T05_TI.name:T05_TI.dropna()})\n",
    "merge_test_10_min_avg = merge_test.resample('10min').mean().dropna()\n",
    "wd_turb_test = data['wind_direction_DOW_2023_10min_avg'][['timestamp', 'DOW-J04-WindDirection', 'DOW-T05-WindDirection']]\n",
    "wd_turb_test = timestamp_to_datetime_index(wd_turb_test)\n",
    "turb_test = pd.merge(merge_test_10_min_avg, wd_turb_test, on='timestamp')\n",
    "inwake = turb_test[((turb_test['DOW-J04-WindDirection']> 210) & (turb_test['DOW-J04-WindDirection']<250))]\n",
    "outwake = turb_test[((turb_test['DOW-J04-WindDirection']> 120) & (turb_test['DOW-J04-WindDirection']<170))]\n",
    "\n",
    "print('T05 TI higher than J04 when downstream:',  len(inwake[inwake['DOW-J04-TI']<inwake['DOW-T05-TI']].index), 'out of', len(inwake.index))\n",
    "print('T05 TI higher than J04 when clear flowfield:',  len(outwake[outwake['DOW-J04-TI']<outwake['DOW-T05-TI']].index), 'out of', len(outwake.index))\n"
   ]
  },
  {
   "cell_type": "code",
   "execution_count": null,
   "metadata": {},
   "outputs": [],
   "source": [
    "from util import plot_ti_polynomial\n",
    "plot_ti_polynomial()\n",
    "plt.show()"
   ]
  },
  {
   "cell_type": "markdown",
   "metadata": {},
   "source": [
    "### Wind Direction this day"
   ]
  },
  {
   "cell_type": "code",
   "execution_count": null,
   "metadata": {},
   "outputs": [],
   "source": [
    "wd_ws_J04 = ws_wd_yaw_10_min[['timestamp', 'DOW-J04-WindSpeed', 'DOW-J04-WindDirection']].dropna()\n",
    "wd_ws_T05 = ws_wd_yaw_10_min[['timestamp', 'DOW-T05-WindSpeed', 'DOW-T05-WindDirection']].dropna()\n",
    "\n",
    "wd_ws_J04 = timestamp_to_datetime_index(wd_ws_J04)\n",
    "wd_ws_T05 = timestamp_to_datetime_index(wd_ws_T05)\n",
    "\n",
    "wd_ws_J04_raw_day = wd_ws_J04.loc['2023-11-04']\n",
    "wd_ws_T05_raw_day = wd_ws_T05.loc['2023-11-04']\n",
    "\n",
    "\n",
    "\n",
    "ax6 = WindroseAxes.from_ax()\n",
    "ax6.bar(wd_ws_T05_raw_day['DOW-T05-WindDirection'], wd_ws_T05_raw_day['DOW-T05-WindSpeed'], normed=True, opening=0.8, edgecolor='white')\n",
    "ax6.set_legend()\n",
    "ax6.set_title(\"DOW-T05 WindDirection and Speed (2023-11-04)\")\n",
    "\n",
    "ax5 = WindroseAxes.from_ax()\n",
    "ax5.bar(wd_ws_J04_raw_day['DOW-J04-WindDirection'], wd_ws_J04_raw_day['DOW-J04-WindSpeed'], normed=True, opening=0.8, edgecolor='white')\n",
    "ax5.set_legend()\n",
    "ax5.set_title(\"DOW-J04 WindDirection and Speed (2023-11-04)\")\n",
    "\n",
    "plt.show()\n"
   ]
  },
  {
   "cell_type": "code",
   "execution_count": null,
   "metadata": {},
   "outputs": [],
   "source": []
  },
  {
   "cell_type": "markdown",
   "metadata": {},
   "source": [
    "### Pitch control\n"
   ]
  },
  {
   "cell_type": "code",
   "execution_count": null,
   "metadata": {},
   "outputs": [],
   "source": [
    "bladeA = data['blade_angleA_DOW_2023_10min_avg']\n",
    "bladeB = data['blade_angleB_DOW_2023_10min_avg']\n",
    "bladeC = data['blade_angleC_DOW_2023_10min_avg']\n",
    "ws = data['windspeed_DOW_2023_10min_avg'][['timestamp', 'DOW-A01-WindSpeed']]\n",
    "active_power_a01 = data['activepower_DOW_2023_10min_avg'][['timestamp', 'DOW-A01-ActivePower']]\n",
    "\n",
    "\n",
    "A01_pitch = pd.merge(bladeA, bladeB, on='timestamp', how='outer')\n",
    "A01_pitch = pd.merge(A01_pitch, bladeC, on='timestamp', how='outer')\n",
    "A01_pitch = pd.merge(A01_pitch, active_power_a01, on='timestamp', how='outer')\n",
    "A01_pitch = pd.merge(A01_pitch, ws,  on='timestamp', how='outer')[['timestamp', 'DOW-A01-BladeAngleA', 'DOW-A01-BladeAngleB', 'DOW-A01-BladeAngleC', 'DOW-A01-WindSpeed', 'DOW-A01-ActivePower']]\n",
    "\n",
    "A01_pitch = timestamp_to_datetime_index(A01_pitch)"
   ]
  },
  {
   "cell_type": "code",
   "execution_count": null,
   "metadata": {},
   "outputs": [],
   "source": [
    "tt = 'A01'\n",
    "\n",
    "ws = data['windspeed_DOW_2023_10min_avg'][['timestamp', f'DOW-{tt}-WindSpeed']]\n",
    "rpm_a01 = data['RPM_DOW_2023_10min_avg'][['timestamp', f'DOW-{tt}-GenRPM']].ffill()\n",
    "rpm_ws_a01 = pd.merge(rpm_a01, ws, on='timestamp')\n",
    "rpm_ws_a01 = timestamp_to_datetime_index(rpm_ws_a01).dropna()\n",
    "rpm_ws_a01['TSR'] = (154 * np.pi * rpm_ws_a01[f'DOW-{tt}-GenRPM']/60)/rpm_ws_a01[f'DOW-{tt}-WindSpeed']\n"
   ]
  },
  {
   "cell_type": "code",
   "execution_count": null,
   "metadata": {},
   "outputs": [],
   "source": [
    "date = '2023-11-19'\n",
    "\n",
    "rpm_a01 = data['RPM_DOW_2023_10min_avg'][['timestamp', 'DOW-A01-GenRPM']]\n",
    "rpm_a01 = rpm_a01.ffill().dropna()\n",
    "rpm_a01 = timestamp_to_datetime_index(rpm_a01)\n",
    "plt.rcParams[\"figure.figsize\"] = (8, 5)\n",
    "fig, ax1 = plt.subplots()\n",
    "\n",
    "color = 'tab:red'\n",
    "ax1.set_ylabel('WindSpeed [m/s]', color=color)\n",
    "A01_pitch.loc[date]['DOW-A01-WindSpeed'].plot(ax=ax1, color=color, xlabel='Time')\n",
    "\n",
    "ax1.tick_params(axis='y', labelcolor=color)\n",
    "\n",
    "ax2 = ax1.twinx()\n",
    "ax3 = ax1.twinx()\n",
    "\n",
    "ax2.spines.right.set_position((\"axes\", 1.2))\n",
    "\n",
    "color = 'tab:green'\n",
    "ax2.set_ylabel('TSR', color=color)  \n",
    "rpm_ws_a01.loc[date]['TSR'].plot(ax = ax2, color=color)\n",
    "ax2.tick_params(axis='y', labelcolor=color)\n",
    "\n",
    "color = 'tab:blue'\n",
    "ax3.set_ylabel('Pitch angle', color=color)  \n",
    "plt.gca().yaxis.set_major_formatter(FormatStrFormatter('%a$^\\circ$'))\n",
    "A01_pitch.loc[date]['DOW-A01-BladeAngleA'].plot(ax=ax3, color=color)\n",
    "ax3.tick_params(axis='y', labelcolor=color)\n",
    "\n",
    "\n",
    "fig.tight_layout()  # otherwise the right y-label is slightly clipped\n",
    "#fig.legend(['Wind Speed', 'Active Power', 'Pitch angle'])\n",
    "plt.title(\"Pitch angle correlation\")\n",
    "plt.show()\n",
    "\n",
    "\n",
    "\n",
    "\n",
    "\n"
   ]
  },
  {
   "cell_type": "markdown",
   "metadata": {},
   "source": [
    "### RPM"
   ]
  },
  {
   "cell_type": "code",
   "execution_count": null,
   "metadata": {},
   "outputs": [],
   "source": [
    "fig, ax1 = plt.subplots()\n",
    "ax2 = ax1.twinx()\n",
    "ax3 = ax1.twinx()\n",
    "\n",
    "ax2.spines.right.set_position((\"axes\", 1.2))\n",
    "color = 'tab:orange'\n",
    "ax1.set_ylabel('RPM', color=color)  \n",
    "rpm_a01.loc[date]['DOW-A01-GenRPM'].plot(ax = ax1, color=color, xlabel = 'Time')\n",
    "ax1.tick_params(axis='y', labelcolor=color)\n",
    "\n",
    "color = 'tab:blue'  \n",
    "ax2.set_ylabel('Wind Speed', color=color)  \n",
    "A01_pitch.loc[date]['DOW-A01-WindSpeed'].plot(ax=ax2, color=color)\n",
    "ax2.tick_params(axis='y', labelcolor=color)\n",
    "\n",
    "color = 'tab:green'\n",
    "ax3.set_ylabel('Pitch angle', color=color)  \n",
    "plt.gca().yaxis.set_major_formatter(FormatStrFormatter('%a$^\\circ$'))\n",
    "A01_pitch.loc[date]['DOW-A01-BladeAngleA'].plot(ax=ax3, color=color)\n",
    "ax3.tick_params(axis='y', labelcolor=color)\n",
    "\n",
    "plt.show()"
   ]
  },
  {
   "cell_type": "code",
   "execution_count": null,
   "metadata": {},
   "outputs": [],
   "source": [
    "tt = 'D01'\n",
    "\n",
    "ws = data['windspeed_DOW_2023_10min_avg'][['timestamp', f'DOW-{tt}-WindSpeed']]\n",
    "rpm_a01 = data['RPM_DOW_2023_10min_avg'][['timestamp', f'DOW-{tt}-GenRPM']].ffill()\n",
    "rpm_ws_a01 = pd.merge(rpm_a01, ws, on='timestamp')\n",
    "rpm_ws_a01 = timestamp_to_datetime_index(rpm_ws_a01).dropna()\n",
    "rpm_ws_a01['TSR'] = (154 * np.pi * rpm_ws_a01[f'DOW-{tt}-GenRPM']/60)/rpm_ws_a01[f'DOW-{tt}-WindSpeed']\n",
    "\n",
    "\n",
    "q1 = rpm_ws_a01['TSR'].quantile(0.01)\n",
    "q9 = rpm_ws_a01['TSR'].quantile(0.99)\n",
    "print(q1, q9)\n",
    "rpm_ws_a01[(rpm_ws_a01['TSR']>q1) & (rpm_ws_a01['TSR']<q9)].hist(column='TSR', bins=20)\n",
    "plt.title('Tip-speed ratio')\n",
    "plt.ylabel('Frequency')\n",
    "plt.xlabel('$\\lambda$')\n",
    "print(rpm_ws_a01.mean())\n",
    "\n",
    "\n"
   ]
  },
  {
   "cell_type": "markdown",
   "metadata": {},
   "source": [
    "### Theoretical Power Curve"
   ]
  },
  {
   "cell_type": "code",
   "execution_count": null,
   "metadata": {},
   "outputs": [],
   "source": [
    "from swt6 import plot_DOW_powercurve, SWT6\n",
    "A01_pitch.sample(1200).plot.scatter(x='DOW-A01-WindSpeed', y='DOW-A01-ActivePower', c='blue', edgecolor='gray')\n",
    "plot_DOW_powercurve()\n",
    "\n",
    "plt.show()"
   ]
  },
  {
   "cell_type": "markdown",
   "metadata": {},
   "source": []
  },
  {
   "cell_type": "code",
   "execution_count": null,
   "metadata": {},
   "outputs": [],
   "source": [
    "import matplotlib as mpl\n",
    "mpl.rcParams.update(mpl.rcParamsDefault)\n",
    "\n",
    "ws=np.linspace(0, 25, 1000)\n",
    "power, ct = SWT6.power_ct(ws)\n",
    "\n",
    "ax = plt.gca()\n",
    "ax.plot(ws, power/1000, label='Power', color='orange', linewidth=2.0)\n",
    "ax.grid()\n",
    "ax.set_title('SWT6.0 Power and thrust curve')\n",
    "ax.set_xlabel('Wind speed [m/s]')\n",
    "ax.set_ylabel('Power [kW]')\n",
    "ax2 = ax.twinx()\n",
    "ax2.plot(ws, ct, '--', label='$C_T$', color='green', )\n",
    "ax2.set_ylabel('Thrust coefficient', color='green')\n",
    "ax2.tick_params(axis='y', labelcolor='green')\n",
    "\n",
    "sample = A01_pitch[['DOW-A01-WindSpeed', 'DOW-A01-ActivePower']].sample(1200)\n",
    "\n",
    "mask = (sample['DOW-A01-WindSpeed'] > 4) & (sample['DOW-A01-ActivePower'] < 10)\n",
    "\n",
    "sample = sample[~mask]\n",
    "ax.scatter(sample['DOW-A01-WindSpeed'], sample['DOW-A01-ActivePower'], c='blue', edgecolor='gray', label='A01 measurments',alpha=0.7)\n",
    "#A01_pitch.sample(1200).plot.scatter(x='DOW-A01-WindSpeed', y='DOW-A01-ActivePower', c='blue', edgecolor='gray', ax= ax)\n",
    "lns, labs = ax.get_legend_handles_labels()\n",
    "lns2, labs2 = ax2.get_legend_handles_labels()\n",
    "\n",
    "ax.legend(lns+lns2, labs+labs2, loc=5)\n",
    "plt.show()"
   ]
  }
 ],
 "metadata": {
  "kernelspec": {
   "display_name": ".venv",
   "language": "python",
   "name": "python3"
  },
  "language_info": {
   "codemirror_mode": {
    "name": "ipython",
    "version": 3
   },
   "file_extension": ".py",
   "mimetype": "text/x-python",
   "name": "python",
   "nbconvert_exporter": "python",
   "pygments_lexer": "ipython3",
   "version": "3.12.0"
  }
 },
 "nbformat": 4,
 "nbformat_minor": 2
}
