{
 "cells": [
  {
   "cell_type": "markdown",
   "metadata": {},
   "source": [
    "# Power predictor\n",
    "\n",
    "### First run generate_TI_set.py, which will generate the simulated TI dataset. "
   ]
  },
  {
   "cell_type": "code",
   "execution_count": null,
   "metadata": {},
   "outputs": [],
   "source": [
    "from data_filter import get_filtered_data, prepare_turbine_seperated_data\n",
    "from util import get_dataframes, timestamp_to_datetime_index, ws2ti_0\n",
    "import matplotlib.pyplot as plt\n",
    "import numpy as np\n",
    "import seaborn as sb\n",
    "\n"
   ]
  },
  {
   "cell_type": "markdown",
   "metadata": {},
   "source": [
    "### Getting filtered datasets with Simulated TI"
   ]
  },
  {
   "cell_type": "code",
   "execution_count": null,
   "metadata": {},
   "outputs": [],
   "source": []
  },
  {
   "cell_type": "code",
   "execution_count": null,
   "metadata": {},
   "outputs": [],
   "source": [
    "data = get_filtered_data(include_ti=True)\n",
    "raw_data = prepare_turbine_seperated_data()"
   ]
  },
  {
   "cell_type": "code",
   "execution_count": null,
   "metadata": {},
   "outputs": [],
   "source": [
    "plt.rcParams[\"figure.figsize\"] = (12,4)\n",
    "tt = 'J04'\n",
    "fig, axes = plt.subplots(1, 2)\n",
    "axes[0].scatter(raw_data[tt]['WindSpeed'], raw_data[tt]['ActivePower'], edgecolor = 'gray', alpha = 0.6)\n",
    "axes[1].scatter(data[tt]['WindSpeed'], data[tt]['ActivePower'], edgecolor = 'gray', alpha = 0.6)\n",
    "axes[0].set_title('Unfiltered Dataset')\n",
    "axes[1].set_title('Filtered Dataset')\n",
    "axes[0].set_xlabel('Wind Speed [m/s]')\n",
    "axes[1].set_ylabel('Active Power [kW]')\n",
    "axes[1].set_xlabel('Wind Speed [m/s]')\n",
    "axes[0].set_ylabel('Active Power [kW]')\n",
    "plt.show()"
   ]
  },
  {
   "cell_type": "code",
   "execution_count": null,
   "metadata": {},
   "outputs": [],
   "source": [
    "print(data.keys())\n",
    "print(data['A01'].columns)\n",
    "print(type(data['A01']))\n",
    "print(len(data['A01']))\n"
   ]
  },
  {
   "cell_type": "code",
   "execution_count": null,
   "metadata": {},
   "outputs": [],
   "source": [
    "testdata = get_dataframes(print_names=False)\n",
    "testdata['simulated_ti'].shape"
   ]
  },
  {
   "cell_type": "markdown",
   "metadata": {},
   "source": [
    "### Pearson correlation."
   ]
  },
  {
   "cell_type": "code",
   "execution_count": null,
   "metadata": {},
   "outputs": [],
   "source": [
    "plt.rcParams[\"figure.figsize\"] = (10, 8)\n",
    "corrolation_sample = data['B01'][['ActivePower', 'Pitch', 'GenRPM', 'WindSpeed', 'WindDirection', 'AirHumidity', 'AirPressure', 'AirTemp', 'TI', 'TSR', 'YawOffset']].sample(frac=0.1)\n",
    "corrolation_sample['TI_0'] = ws2ti_0(corrolation_sample['WindSpeed'])\n",
    "corrolation_matrix = corrolation_sample.corr(method=\"pearson\", numeric_only = True)\n",
    "\n",
    "ax = sb.heatmap(corrolation_matrix, vmin = -1, vmax = 1, annot = True)\n",
    "plt.figure(figsize=(15,6))\n",
    "ax.set_title('Pearson correlation', )\n",
    "plt.show()\n"
   ]
  },
  {
   "cell_type": "markdown",
   "metadata": {},
   "source": [
    "### XGBoost model training"
   ]
  },
  {
   "cell_type": "code",
   "execution_count": null,
   "metadata": {},
   "outputs": [],
   "source": [
    "from sklearn.model_selection import train_test_split\n",
    "from tqdm import tqdm\n",
    "#Dividing the training/dataset\n",
    "test_data = {}\n",
    "train_data = {}\n",
    "for name, df_i in tqdm(data.items(), total = 67):\n",
    "    df_i['TI_0'] = ws2ti_0(df_i['WindSpeed'])\n",
    "    train, test = train_test_split(df_i, test_size=0.2)\n",
    "    test_data[name] = test\n",
    "    train_data[name] = train"
   ]
  },
  {
   "cell_type": "code",
   "execution_count": null,
   "metadata": {},
   "outputs": [],
   "source": []
  },
  {
   "cell_type": "markdown",
   "metadata": {},
   "source": [
    "Generating hybrid regressors"
   ]
  },
  {
   "cell_type": "code",
   "execution_count": null,
   "metadata": {},
   "outputs": [],
   "source": [
    "from xgboost import XGBRegressor\n",
    "from tqdm import tqdm\n",
    "import time\n",
    "hybrid_features = ['Pitch', 'WindSpeed', 'WindDirection', 'AirHumidity', 'AirPressure', 'AirTemp', 'TI', 'YawOffset', 'TSR','TI_0']\n",
    "label = 'ActivePower'\n",
    "\n",
    "hybrid_regressors = {}\n",
    "\n",
    "for name, test_set in tqdm(test_data.items(), desc='Generating Hybrid Power Predictors (HPP)'):\n",
    "    bst = XGBRegressor()\n",
    "    bst.fit(test_set[hybrid_features], test_set[label])\n",
    "    #bst.save_model(f'./regressors/hybrid/{name}_HPP.json')\n",
    "    hybrid_regressors[name] = bst\n"
   ]
  },
  {
   "cell_type": "markdown",
   "metadata": {},
   "source": [
    "Generating standard regressors"
   ]
  },
  {
   "cell_type": "code",
   "execution_count": null,
   "metadata": {},
   "outputs": [],
   "source": [
    "standard_features = ['Pitch', 'WindSpeed', 'WindDirection', 'AirHumidity', 'AirPressure', 'AirTemp', 'YawOffset', 'TSR', 'TI_0'] #Only missing simulated TI\n",
    "label = 'ActivePower'\n",
    "\n",
    "\n",
    "standard_regressors = {}\n",
    "\n",
    "for name, test_set in tqdm(test_data.items(), desc='Generating Standard Power Predictors (SPP)'):\n",
    "    bst = XGBRegressor()\n",
    "    bst.fit(test_set[standard_features], test_set[label])\n",
    "    #bst.save_model(f'./regressors/standard/{name}_SPP.json')\n",
    "    standard_regressors[name] = bst"
   ]
  },
  {
   "cell_type": "markdown",
   "metadata": {},
   "source": [
    "Getting results of test set"
   ]
  },
  {
   "cell_type": "code",
   "execution_count": null,
   "metadata": {},
   "outputs": [],
   "source": [
    "from swt6 import SWT6\n",
    "standard_predictions = {}\n",
    "hybrid_predictions = {}\n",
    "theoretical_predictions = {}\n",
    "\n",
    "for name, test_df in test_data.items():\n",
    "        hres = hybrid_regressors[name].predict(test_df[hybrid_features])\n",
    "        sres = standard_regressors[name].predict(test_df[standard_features])\n",
    "        tres = SWT6.power_ct(test_df['WindSpeed'].to_numpy())[0]/1000 # because in W and not kW\n",
    "        \n",
    "        standard_predictions[name] = sres\n",
    "        hybrid_predictions[name] = hres\n",
    "        theoretical_predictions[name] = tres"
   ]
  },
  {
   "cell_type": "code",
   "execution_count": null,
   "metadata": {},
   "outputs": [],
   "source": [
    "from sklearn.metrics import root_mean_squared_error\n",
    "\n",
    "rmse_standard = {}\n",
    "rmse_hybrid = {}\n",
    "rmse_theoretical = {}\n",
    "\n",
    "for name, test_df in test_data.items():\n",
    "    if name in ['A03', 'A05', 'F01', 'K01', 'L03', 'T03']:\n",
    "        continue\n",
    "    rmse_hybrid[name] = root_mean_squared_error(y_true=test_df[label].to_numpy(), y_pred=hybrid_predictions[name])\n",
    "    rmse_standard[name] = root_mean_squared_error(y_true=test_df[label].to_numpy(), y_pred=standard_predictions[name])\n",
    "    rmse_theoretical[name] = root_mean_squared_error(y_true=test_df[label].to_numpy(), y_pred=theoretical_predictions[name])"
   ]
  },
  {
   "cell_type": "code",
   "execution_count": null,
   "metadata": {},
   "outputs": [],
   "source": [
    "plt.rcParams[\"figure.figsize\"] = (12, 8)\n",
    "\n",
    "plt.bar(range(len(rmse_hybrid)), list(rmse_hybrid.values()), align='center')\n",
    "plt.xticks(range(len(rmse_hybrid)), list(rmse_hybrid.keys()))\n",
    "plt.xticks(rotation=90)\n",
    "plt.title('Hybrid power prediction RMSE')\n",
    "plt.show()"
   ]
  },
  {
   "cell_type": "code",
   "execution_count": null,
   "metadata": {},
   "outputs": [],
   "source": [
    "plt.rcParams[\"figure.figsize\"] = (12, 8)\n",
    "\n",
    "plt.bar(range(len(rmse_standard)), list(rmse_standard.values()), align='center')\n",
    "plt.xticks(range(len(rmse_standard)), list(rmse_standard.keys()))\n",
    "plt.xticks(rotation=90)\n",
    "plt.title('Standard power prediction RMSE')\n",
    "plt.show()"
   ]
  },
  {
   "cell_type": "markdown",
   "metadata": {},
   "source": [
    "this plot was aided by chatgpt"
   ]
  },
  {
   "cell_type": "code",
   "execution_count": null,
   "metadata": {},
   "outputs": [],
   "source": [
    "plt.rcParams[\"figure.figsize\"] = (19, 8)\n",
    "\n",
    "# Extract keys and values\n",
    "keys = list(rmse_hybrid.keys())\n",
    "values1 = list(rmse_hybrid.values())\n",
    "values2 = list(rmse_standard.values())\n",
    "\n",
    "# Define positions for the bars\n",
    "bar_width = 0.35\n",
    "index = np.arange(len(keys))\n",
    "\n",
    "# Create the bar chart\n",
    "fig, ax = plt.subplots()\n",
    "bar1 = ax.bar(index, values1, bar_width, label='Hybrid RMSE', color='green')\n",
    "bar2 = ax.bar(index + bar_width, values2, bar_width, label='Standard RMSE', color='cornflowerblue')\n",
    "\n",
    "# Add labels, title, and legend\n",
    "ax.set_xlabel('Turbine')\n",
    "ax.set_ylabel('RMSE')\n",
    "ax.set_title('Power prediction RMSE')\n",
    "ax.set_xticks(index + bar_width / 2)\n",
    "ax.set_xticklabels(keys)\n",
    "plt.xticks(rotation=90)\n",
    "ax.legend()\n",
    "\n",
    "# Display the chart\n",
    "plt.show()"
   ]
  },
  {
   "cell_type": "markdown",
   "metadata": {},
   "source": [
    "### To exclude:\n",
    "A03, A05, F01, K01, L03, T03\n",
    "### These turbine sets are inspected:"
   ]
  },
  {
   "cell_type": "code",
   "execution_count": null,
   "metadata": {},
   "outputs": [],
   "source": [
    "from data_filter import prepare_turbine_seperated_data\n",
    "raw_data = prepare_turbine_seperated_data()\n"
   ]
  },
  {
   "cell_type": "code",
   "execution_count": null,
   "metadata": {},
   "outputs": [],
   "source": [
    "plt.rcParams[\"figure.figsize\"] = (12, 15)\n",
    "\n",
    "fig, axs = plt.subplots(3, 2)\n",
    "raw_data['A03'].plot.scatter(x='WindSpeed', y='ActivePower', ax= axs[0,0])\n",
    "raw_data['A05'].plot.scatter(x='WindSpeed', y='ActivePower', ax= axs[1,0])\n",
    "raw_data['F01'].plot.scatter(x='WindSpeed', y='ActivePower', ax= axs[0,1])\n",
    "raw_data['K01'].plot.scatter(x='WindSpeed', y='ActivePower', ax= axs[1,1])\n",
    "raw_data['L03'].plot.scatter(x='WindSpeed', y='ActivePower', ax= axs[2,0])\n",
    "raw_data['T03'].plot.scatter(x='WindSpeed', y='ActivePower', ax= axs[2,1])\n",
    "\n",
    "\n",
    "\n",
    "axs[0,0].set_title('A03 power measurements')\n",
    "axs[1,0].set_title('A05 power measurements')\n",
    "axs[0,1].set_title('F01 power measurements')\n",
    "axs[1,1].set_title('K01 power measurements')\n",
    "axs[2,0].set_title('L03 power measurements')\n",
    "axs[2,1].set_title('T03 power measurements')\n",
    "\n",
    "plt.show()"
   ]
  },
  {
   "cell_type": "code",
   "execution_count": null,
   "metadata": {},
   "outputs": [],
   "source": [
    "import pandas as pd\n",
    "plt.rcParams[\"figure.figsize\"] = (7, 5)\n",
    "data['D04'].plot.scatter(x='WindSpeed', y='ActivePower')\n",
    "plt.title('D04 power measurements')\n",
    "plt.show()\n"
   ]
  },
  {
   "cell_type": "markdown",
   "metadata": {},
   "source": [
    "### Plotting average RMSE"
   ]
  },
  {
   "cell_type": "code",
   "execution_count": null,
   "metadata": {},
   "outputs": [],
   "source": [
    "theo_rmse_mean = pd.DataFrame(rmse_theoretical, index=[0]).mean(axis=1)[0]\n",
    "hybrid_rmse_mean = pd.DataFrame(rmse_hybrid, index=[0]).mean(axis=1)[0]\n",
    "standard_rmse_mean = pd.DataFrame(rmse_standard, index=[0]).mean(axis=1)[0]\n",
    "\n",
    "labels = ['Hybrid', 'Standard', 'Theoretical']\n",
    "values = [hybrid_rmse_mean, standard_rmse_mean, theo_rmse_mean]\n",
    "colors = ['green', 'cornflowerblue', 'orange']\n",
    "\n",
    "bars = plt.bar(labels, values, width=0.5, color=colors)\n",
    "\n",
    "plt.title('Mean RMSE for all turbines')\n",
    "\n",
    "plt.ylabel('RMSE [kW]')\n",
    "\n",
    "for bar in bars:\n",
    "    yval = bar.get_height()\n",
    "    plt.text(bar.get_x() + bar.get_width()/2.0, yval, round(yval, 2), va='bottom', \n",
    "             fontsize=10, color='black', ha='center') \n",
    "\n"
   ]
  },
  {
   "cell_type": "code",
   "execution_count": null,
   "metadata": {},
   "outputs": [],
   "source": [
    "plt.rcParams[\"figure.figsize\"] = (8, 5)\n",
    "tt = 'K03'\n",
    "topn = 100\n",
    "ws = test_data[tt]['WindSpeed'].head(topn)\n",
    "labels = test_data[tt][label].head(topn)\n",
    "plt.scatter(ws, labels, color = 'red', label='Active power')\n",
    "plt.scatter(ws, standard_predictions[tt][:topn], marker='x', color = 'blue', alpha=0.8,s=20, label= 'SPP')\n",
    "plt.scatter(ws, hybrid_predictions[tt][:topn], marker='+', s=60, color='green', alpha=0.8, label= 'HPP')\n",
    "plt.plot(ws.sort_values(), SWT6.power_ct(ws.sort_values())[0]/1000, linewidth=3, color='orange', alpha=0.7, label= 'TPP')\n",
    "\n",
    "plt.legend()\n",
    "plt.xlabel('Wind Speed [m/s]')\n",
    "plt.ylabel('Power [kW]')\n",
    "plt.title(f'Sample of active power predictions ({tt})')\n",
    "plt.show()"
   ]
  }
 ],
 "metadata": {
  "kernelspec": {
   "display_name": ".venv",
   "language": "python",
   "name": "python3"
  },
  "language_info": {
   "codemirror_mode": {
    "name": "ipython",
    "version": 3
   },
   "file_extension": ".py",
   "mimetype": "text/x-python",
   "name": "python",
   "nbconvert_exporter": "python",
   "pygments_lexer": "ipython3",
   "version": "3.12.0"
  }
 },
 "nbformat": 4,
 "nbformat_minor": 2
}
